{
 "cells": [
  {
   "cell_type": "code",
   "execution_count": 1,
   "id": "15502b77",
   "metadata": {},
   "outputs": [],
   "source": [
    "import mdtraj as md\n",
    "import os\n",
    "import sys\n",
    "import numpy as np\n",
    "import scipy as sp\n",
    "from scipy import optimize\n",
    "from scipy.optimize import leastsq\n",
    "import matplotlib.pyplot as plt\n",
    "from matplotlib import colors\n",
    "import seaborn as sns\n",
    "import math\n",
    "import itertools    \n",
    "from numpy import log2, zeros, mean, var, sum, loadtxt, arange, \\\n",
    "                  array, cumsum, dot, transpose, diagonal, floor\n",
    "from numpy.linalg import inv, lstsq\n",
    "import pyblock\n",
    "import pandas as pd\n",
    "\n",
    "np.set_printoptions(formatter={'float': lambda x: \"{0:0.3f}\".format(x)})\n"
   ]
  },
  {
   "cell_type": "code",
   "execution_count": 7,
   "id": "8a593352",
   "metadata": {},
   "outputs": [
    {
     "name": "stdout",
     "output_type": "stream",
     "text": [
      "/data/asn/tica/lig_47/dist\r\n"
     ]
    }
   ],
   "source": [
    "!pwd"
   ]
  },
  {
   "cell_type": "code",
   "execution_count": 8,
   "id": "b6f2e758",
   "metadata": {},
   "outputs": [],
   "source": [
    "pdb = '/data/asn/biorxiv2021-6626290-no-water-glue/lig47.pdb'\n",
    "rep0 = '/data/asn/biorxiv2021-6626290-no-water-glue/ligand_47_1.xtc'\n",
    "\n",
    "# table,bonds = md.load(pdb).topology.to_dataframe()\n",
    "# first = table[table[\"resSeq\"]==121].to_numpy()\n",
    "# first[:,0] = np.arange(1, 1+len(first))\n",
    "# second = table[table[\"resSeq\"]!=121].to_numpy()\n",
    "# second[:,0] = np.arange(first[-1,0]+1, first[-1,0]+1 + len(second))\n",
    "# final = np.concatenate([first, second], axis=0)\n",
    "# df = pd.DataFrame(data = final, columns = table.columns)\n",
    "# top_fix = md.Topology.from_dataframe(df, bonds)\n",
    "#trj = md.load(rep0, top =top_fix)\n",
    "trj = md.load(rep0, top =pdb)\n",
    "trj.center_coordinates()\n",
    "top = trj.topology\n",
    "first_frame = 0\n",
    "last_frame = trj.n_frames\n",
    "n_frames = trj.n_frames"
   ]
  },
  {
   "cell_type": "code",
   "execution_count": 9,
   "id": "3949b622",
   "metadata": {},
   "outputs": [
    {
     "name": "stdout",
     "output_type": "stream",
     "text": [
      "** SYSTEM INFO **\n",
      "\n",
      "Number of atoms: 338\n",
      "\n",
      "Number of residues: 21\n",
      "\n",
      "Number of protein residues: 20\n",
      "\n",
      "Number of frames: 1100889\n",
      "\n",
      "Starting frame: 0\n",
      "\n",
      "Last frame: 1100889\n",
      "\n",
      "sequence:  [ASP121, ASN122, GLU123, ALA124, TYR125, GLU126, MET127, PRO128, SER129, GLU130, GLU131, GLY132, TYR133, GLN134, ASP135, TYR136, GLU137, PRO138, GLU139, ALA140, ASP121, <1>1]\n",
      "\n",
      "residue names:  ['ASP', 'ASN', 'GLU', 'ALA', 'TYR', 'GLU', 'MET', 'PRO', 'SER', 'GLU', 'GLU', 'GLY', 'TYR', 'GLN', 'ASP', 'TYR', 'GLU', 'PRO', 'GLU', 'ALA', 'ASP', '<1>']\n",
      "\n",
      "residue index:  [0, 1, 2, 3, 4, 5, 6, 7, 8, 9, 10, 11, 12, 13, 14, 15, 16, 17, 18, 19, 20, 21]\n",
      "\n"
     ]
    }
   ],
   "source": [
    "nres = []\n",
    "for res in trj.topology.residues:\n",
    "    nres.append(res.resSeq)\n",
    "sequence = (' %s' % [residue for residue in trj.topology.residues])\n",
    "resname = (' %s' % [residue.name for residue in trj.topology.residues])\n",
    "resindex = (' %s' % [residue.index for residue in trj.topology.residues])\n",
    "prot_top = top.subset(top.select('protein'))\n",
    "prot_res = []\n",
    "for res in prot_top.residues:\n",
    "    prot_res.append(res.resSeq)\n",
    "prot_resname = (' %s' % [residue.name for residue in prot_top.residues])\n",
    "residues = len(set(prot_res))\n",
    "\n",
    "#log = open(\"/Users/paulrobustelli/Desktop/Sa_calc.log\", \"w\")\n",
    "print(\"** SYSTEM INFO **\\n\")\n",
    "print(\"Number of atoms: %d\\n\" % trj.n_atoms)\n",
    "print(\"Number of residues: %d\\n\" % len(set(nres)))\n",
    "print(\"Number of protein residues: %d\\n\" % len(set(prot_res)))\n",
    "print(\"Number of frames: %d\\n\" % trj.n_frames)\n",
    "print(\"Starting frame: %d\\n\" % first_frame)\n",
    "print(\"Last frame: %d\\n\" % last_frame)\n",
    "print(\"sequence: %s\\n\" % sequence)\n",
    "print(\"residue names: %s\\n\" % resname)\n",
    "print(\"residue index: %s\\n\" % resindex)\n",
    "\n",
    "\n",
    "residue_offset = 0\n",
    "prot_res_renum = np.asarray(prot_res)+residue_offset\n",
    "residue_number = range(0, residues)\n",
    "residue_number_offsetres = range(residue_offset, residue_offset+residues)\n",
    "\n"
   ]
  },
  {
   "cell_type": "code",
   "execution_count": 7,
   "id": "b829cd12",
   "metadata": {},
   "outputs": [],
   "source": [
    "def distance_matrix(sel1,sel2,offset1,offset2,traj,measure,periodic):\n",
    "    ''' RETURNS: dmat,np.array(pairs),np.array(pairs_index),index,columns,len(sel1)..(x),len(sel2)....(y)\n",
    "    '''\n",
    "    pair_distances = []\n",
    "    pairs = []\n",
    "    pairs_index = []\n",
    "    if measure == \"residues\":\n",
    "        index = [traj.topology.residue(i) for i in sel1]\n",
    "        columns = [traj.topology.residue(j) for j in sel2]\n",
    "        for i in sel1:\n",
    "            for j in sel2:\n",
    "                pairs.append(\"{},{}\".format(traj.topology.residue(i),traj.topology.residue(j)))\n",
    "                pairs_index.append([i+offset1,j+offset2])\n",
    "                if i==j:\n",
    "                    dist = np.zeros(traj.n_frames)\n",
    "                    pair_distances.append(dist)\n",
    "                else:\n",
    "                    dist = md.compute_contacts(traj,[[i,j]],periodic=periodic)[0][:,0]\n",
    "                    pair_distances.append(dist)\n",
    "    if measure == \"atoms\":\n",
    "        index = [traj.topology.atom(i) for i in sel1]\n",
    "        columns = [traj.topology.atom(j) for j in sel2]\n",
    "        for i in sel1:\n",
    "            for j in sel2:\n",
    "                pairs.append(\"{},{}\".format(traj.topology.atom(i),traj.topology.atom(j)))\n",
    "                pairs_index.append([i+offset1,j+offset2])\n",
    "                if i==j:\n",
    "                    dist = np.zeros(traj.n_frames)\n",
    "                    pair_distances.append(dist)\n",
    "                else:\n",
    "                    dist = md.compute_distances(traj,[[i,j]],periodic=periodic)[:,0]\n",
    "                    pair_distances.append(dist)\n",
    "    dist_feat_arr = np.stack(pair_distances,axis=1)\n",
    "    return dist_feat_arr,np.array(pairs),np.array(pairs_index),index,columns,np.array([len(sel1),len(sel2)])\n",
    "dmat, pairs, pairs_idx, index, col, xy = distance_matrix(np.arange(0,20),[20], 0,0,trj,\"residues\", True)\n",
    "dmat_bin = np.where(dmat<.5,1,0)"
   ]
  },
  {
   "cell_type": "code",
   "execution_count": 4,
   "id": "82c1f249",
   "metadata": {},
   "outputs": [],
   "source": [
    "np.save(\"distance_matrix_lig47.npy\", dmat)"
   ]
  },
  {
   "cell_type": "code",
   "execution_count": null,
   "id": "118bea4f",
   "metadata": {},
   "outputs": [],
   "source": [
    "#Select Ligand Charge Groups\n",
    "#Ligand Charged atom is N-296\n",
    "Ligand_Pos_Charges=[296]\n",
    "Ligand_Neg_Charges=[]\n",
    "\n",
    "def add_charge_pair(pairs,pos,neg,contact_prob):\n",
    "    if pos not in pairs: \n",
    "        pairs[pos] = {} \n",
    "    if neg not in pairs[pos]:\n",
    "        pairs[pos][neg] = {}\n",
    "    pairs[pos][neg] = contact_prob\n",
    "\n",
    "#Select Protein Charge Groups\n",
    "#Add Apropriate HIS name if there is a charged HIE OR HIP in the structure \n",
    "Protein_Pos_Charges=top.select(\"(resname ARG and name CZ) or (resname LYS and name NZ) or (resname HIE and name NE2) or (resname HID and name ND1)\")\n",
    "#Protein_Neg_Charges=[]\n",
    "Protein_Neg_Charges=top.select(\"(resname ASP and name CG) or (resname GLU and name CD) or (name OXT) or (resname NASP and name CG)\")\n",
    "neg_res=[]\n",
    "pos_res=[]\n",
    "                               \n",
    "for i in Protein_Neg_Charges:\n",
    "    neg_res.append(top.atom(i).residue.resSeq)\n",
    "\n",
    "for i in Protein_Pos_Charges:\n",
    "    pos_res.append(top.atom(i).residue.resSeq)                               \n",
    "                               \n",
    "print(\"Negatively Charged Residues:\", neg_res)\n",
    "print(\"Posiitively Charged Residues\", pos_res)\n",
    "\n",
    "charge_pairs_ligpos=[]                      \n",
    "for i in Ligand_Pos_Charges:\n",
    "    for j in Protein_Neg_Charges:              \n",
    "        charge_pairs_ligpos.append([i,j])\n",
    "        pos=top.atom(i)\n",
    "        neg=top.atom(j) \n",
    "\n",
    "contact_1  = md.compute_distances(trj, charge_pairs_ligpos)\n",
    "#contact_2  = md.compute_distances(trj, charge_pairs_ligneg)"
   ]
  },
  {
   "cell_type": "code",
   "execution_count": null,
   "id": "fe603f1c",
   "metadata": {},
   "outputs": [],
   "source": [
    "np.save(\"charge_matrix_lig47.npy\", contact_1)"
   ]
  },
  {
   "cell_type": "code",
   "execution_count": null,
   "id": "5772581c",
   "metadata": {},
   "outputs": [],
   "source": [
    "# Calculate Hydrophobic contacts\n",
    "ligand_hphob = top.select(\"resid 20 and type C\")\n",
    "protein_hphob = top.select(\"protein and element C\")\n",
    "\n",
    "\n",
    "ligand_hphob_atoms = []\n",
    "for atom in ligand_hphob:\n",
    "    ligand_hphob_atoms.append(top.atom(atom))\n",
    "\n",
    "protein_hphob_atoms = []\n",
    "for atom in protein_hphob:\n",
    "    protein_hphob_atoms.append(top.atom(atom))\n",
    "\n",
    "print(ligand_hphob)\n",
    "print(ligand_hphob_atoms)\n",
    "\n",
    "print(protein_hphob)\n",
    "print(protein_hphob_atoms)\n",
    "\n",
    "\n",
    "def add_contact_pair(pairs, a1, a2, a1_id, a2_id, prot_res, contact_prob):\n",
    "    if prot_res not in pairs:\n",
    "        pairs[prot_res] = {}\n",
    "    if a2 not in pairs[prot_res]:\n",
    "        pairs[prot_res][a2] = {}\n",
    "    if a1_id not in pairs[prot_res][a2]:\n",
    "        pairs[prot_res][a2][a1_id] = contact_prob\n",
    "\n",
    "\n",
    "hphob_pairs = []\n",
    "for j in ligand_hphob:\n",
    "    for i in protein_hphob:\n",
    "        hphob_pairs.append([i, j])\n",
    "\n",
    "\n",
    "contact = md.compute_distances(trj, hphob_pairs)\n",
    "contacts = np.asarray(contact).astype(float)"
   ]
  },
  {
   "cell_type": "code",
   "execution_count": null,
   "id": "677266ec",
   "metadata": {},
   "outputs": [],
   "source": [
    "np.save(\"hphob_matrix_lig47.npy\", contacts)"
   ]
  },
  {
   "cell_type": "code",
   "execution_count": null,
   "id": "5b8b23b2",
   "metadata": {},
   "outputs": [],
   "source": [
    "# Definie Hydrogen Bond Donors in EPI-002\n",
    "lig_hbond_donors = [[329, 331], [329, 330]]\n",
    "hbonds = print_donors_acceptors(\n",
    "    trj[0], angle_cutoff=150, distance_cutoff=0.35, lig_donor_index=lig_hbond_donors)\n",
    "dist = md.compute_distances(trj, hbonds[:, [0,2]], periodic=False)"
   ]
  },
  {
   "cell_type": "code",
   "execution_count": null,
   "id": "0fc744a9",
   "metadata": {},
   "outputs": [],
   "source": [
    "np.save(\"hbond_matrix_lig47.npy\", dist)"
   ]
  }
 ],
 "metadata": {
  "kernelspec": {
   "display_name": "Python 3 (ipykernel)",
   "language": "python",
   "name": "python3"
  },
  "language_info": {
   "codemirror_mode": {
    "name": "ipython",
    "version": 3
   },
   "file_extension": ".py",
   "mimetype": "text/x-python",
   "name": "python",
   "nbconvert_exporter": "python",
   "pygments_lexer": "ipython3",
   "version": "3.10.6"
  }
 },
 "nbformat": 4,
 "nbformat_minor": 5
}
